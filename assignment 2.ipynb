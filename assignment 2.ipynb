{
 "cells": [
  {
   "cell_type": "markdown",
   "id": "4bcb3b3d-6e1d-48ac-b015-acd15670a032",
   "metadata": {},
   "source": [
    "### Q1. How do you comment code in Python? What are the different types of comments?"
   ]
  },
  {
   "cell_type": "markdown",
   "id": "bea2cd36-6bb8-4e17-a410-262e6ae2f26e",
   "metadata": {},
   "source": [
    "\"\"\" ans In Python, you can add comments to your code to provide explanations or make notes that are not executed as part of the program \n",
    "Single-line comments: These comments span a single line and are typically used for short explanations or notes. and we use # for the comment\n",
    "\n",
    "Multi-line comments or docstrings: These comments can span multiple lines and are often used for longer explanations. To create a multi-line comment in Python,  can use triple quotes (''' or \"\"\") at the beginning and end of the comment block.\"\"\""
   ]
  },
  {
   "cell_type": "markdown",
   "id": "a5af5756-10bf-4fa1-9356-17a9973be633",
   "metadata": {},
   "source": [
    "### Q2. What are variables in Python? How do you declare and assign values to variables?"
   ]
  },
  {
   "cell_type": "markdown",
   "id": "3c785b8c-24ef-4f53-b2a0-1f21bc41087e",
   "metadata": {},
   "source": [
    " \"\"\" Ans In Python, variables are used to store and manipulate data. A variable is essentially a name that represents a memory location where a value is stored\n",
    "we (=)to assign the value to a variables\n",
    "\n",
    "Variable declaration and assignment\n",
    "x = 10 \"\"\"\n"
   ]
  },
  {
   "cell_type": "markdown",
   "id": "78220562-ebe0-4d5f-97d9-d15532abb9f0",
   "metadata": {},
   "source": [
    "### Q3. How do you convert one data type to another in Python?"
   ]
  },
  {
   "cell_type": "markdown",
   "id": "2fc1f68d-1a5c-4560-b082-060aa9658a76",
   "metadata": {},
   "source": [
    "\"\"\" Ans In Python, you can convert one data type to another using type conversion functions \n",
    "\n",
    "Using type conversion functions:\n",
    "\n",
    "int(): Converts a value to an integer.\n",
    "float(): Converts a value to a floating-point number.\n",
    "str(): Converts a value to a string.\n",
    "bool(): Converts a value to a boolean.\"\"\""
   ]
  },
  {
   "cell_type": "markdown",
   "id": "21d05c09-8c1d-47a8-b0ff-25b5d982b9f4",
   "metadata": {},
   "source": [
    "### Q4. How do you write and execute a Python script from the command line?"
   ]
  },
  {
   "cell_type": "markdown",
   "id": "eab187a5-22df-4085-b612-90f4770bf29c",
   "metadata": {},
   "source": [
    "\"\"\" Ans Open a text editor and create a new file with a .py extension. For example, you can create a file called myscript.py.\n",
    "\n",
    "Write your Python code in the file. For example, let's say you want to print \"Hello, World!\" to the console. You can write the following code in myscript.py:\n",
    "\n",
    "python\n",
    "Copy code\n",
    "print(\"Hello, World!\")\n",
    "Save the file.\n",
    "\n",
    "Open a command-line interface (e.g., Command Prompt on Windows, Terminal on macOS or Linux).\n",
    "\n",
    "Navigate to the directory where your Python script is located. You can use the cd command to change directories. For example, if your script is in the Documents directory, you can navigate to it using:\n",
    "\n",
    "bash\n",
    "Copy code\n",
    "cd Documents\n",
    "Once you are in the correct directory, you can run the Python script by typing python followed by the name of your script file. For example:\n",
    "\n",
    "Copy code\n",
    "python myscript.py\n",
    "The command python is used to invoke the Python interpreter, and myscript.py is the name of the file you created. Press Enter to execute the command.\n",
    "\n",
    "The Python script will be executed, and the output, if any, will be displayed in the command-line interface. In this case, \"Hello, World!\" will be printed to the console.\n",
    "\n",
    "That's it! You have written and executed a Python script from the command line. You can modify the script file as needed and repeat steps 6 and 7 to execute it again.\"\"\""
   ]
  },
  {
   "cell_type": "markdown",
   "id": "025696d5-f365-42a3-a469-fe4b2e8dbfc7",
   "metadata": {},
   "source": [
    "### Given a list my_list = [1, 2, 3, 4, 5], write the code to slice the list and obtain the sub-list [2, 3]."
   ]
  },
  {
   "cell_type": "code",
   "execution_count": null,
   "id": "52602d8a-2240-4499-a0ef-29cf0f9b0e06",
   "metadata": {},
   "outputs": [],
   "source": [
    "s=\"sudh\"\n",
    "for i in s:\n",
    "    print(i)"
   ]
  },
  {
   "cell_type": "code",
   "execution_count": 12,
   "id": "5860c2ee-c943-451c-8649-e14d36cb05b1",
   "metadata": {},
   "outputs": [
    {
     "data": {
      "text/plain": [
       "[2, 3]"
      ]
     },
     "execution_count": 12,
     "metadata": {},
     "output_type": "execute_result"
    }
   ],
   "source": [
    " my_list = [1, 2, 3, 4,]\n",
    "my_list[1:3]\n"
   ]
  },
  {
   "cell_type": "markdown",
   "id": "e70db36d-9c29-4725-a908-76bdc61c13fb",
   "metadata": {},
   "source": [
    "### Q6. What is a complex number in mathematics, and how is it represented in Python?"
   ]
  },
  {
   "cell_type": "markdown",
   "id": "b4feb065-48a4-42d6-acfe-58788a08d2f5",
   "metadata": {},
   "source": [
    "\"\"\" Ans In mathematics, a complex number is a number that comprises a real part and an imaginary part. It is expressed in the form \"a + bi\", where \"a\" represents the real part, \"b\" represents the imaginary part, and \"i\" represents the imaginary unit\n",
    "In Python, complex numbers are supported as a built-in data type. They are represented using the complex class. The imaginary part is denoted by the suffix j or J.\n",
    "\n",
    "z = a + bj\"\"\""
   ]
  },
  {
   "cell_type": "markdown",
   "id": "51f04488-6a7f-42e2-96d6-4fc5095530be",
   "metadata": {},
   "source": [
    "### Q7. What is the correct way to declare a variable named age and assign the value 25 to it?"
   ]
  },
  {
   "cell_type": "markdown",
   "id": "e7ec1464-201c-4f7c-9c7a-382aa3e830f9",
   "metadata": {},
   "source": [
    "\"\"\" Ans To declare a variable named age and assign the value 25 to it in Python, you simply use the assignment operator (=) as follows\n",
    "\n",
    "\n",
    "\n",
    "age = 25 \"\"\""
   ]
  },
  {
   "cell_type": "markdown",
   "id": "210fe90e-e035-482f-9110-1fada4d85810",
   "metadata": {},
   "source": [
    "### Q8. Declare a variable named price and assign the value 9.99 to it. What data type does this variable belong to?"
   ]
  },
  {
   "cell_type": "markdown",
   "id": "b5b940e8-2849-4a24-947e-cac702d20193",
   "metadata": {},
   "source": [
    "\"\"\" Ans price = 9.99\n",
    "and its data type is floating point number \"\"\""
   ]
  },
  {
   "cell_type": "markdown",
   "id": "38893d0b-329a-413d-881f-4a6078c5f215",
   "metadata": {},
   "source": [
    "### Q9. Create a variable named name and assign your full name to it as a string. How would you print the value of this variable?"
   ]
  },
  {
   "cell_type": "code",
   "execution_count": 20,
   "id": "616574a7-d8c3-44a0-9e01-5ebe5884546c",
   "metadata": {},
   "outputs": [],
   "source": [
    " name = \"abhishek yadav\"\n"
   ]
  },
  {
   "cell_type": "code",
   "execution_count": 22,
   "id": "d3ead3ed-28c7-449c-adff-a1f6af0692c4",
   "metadata": {},
   "outputs": [
    {
     "name": "stdout",
     "output_type": "stream",
     "text": [
      "abhishek yadav\n"
     ]
    }
   ],
   "source": [
    "print(name)"
   ]
  },
  {
   "cell_type": "markdown",
   "id": "bb3acca3-0266-4385-b4bf-ebb7019db51a",
   "metadata": {},
   "source": [
    "\"\"\" To print the value of the name variable, you can use the print() function in Python.\"\"\""
   ]
  },
  {
   "cell_type": "markdown",
   "id": "9d311930-be3e-432c-a259-c8d57eb397b5",
   "metadata": {},
   "source": [
    "### Q10. Given the string \"Hello, World!\", extract the substring \"World\"."
   ]
  },
  {
   "cell_type": "code",
   "execution_count": 31,
   "id": "6252ddaa-8d45-4004-a031-de0dacb62cb0",
   "metadata": {},
   "outputs": [],
   "source": [
    "s = \"Hello,World\""
   ]
  },
  {
   "cell_type": "code",
   "execution_count": 33,
   "id": "3f61246d-1750-4bfc-9eca-73d0c9d1a62d",
   "metadata": {},
   "outputs": [
    {
     "data": {
      "text/plain": [
       "'World'"
      ]
     },
     "execution_count": 33,
     "metadata": {},
     "output_type": "execute_result"
    }
   ],
   "source": [
    "s[6:11]"
   ]
  },
  {
   "cell_type": "markdown",
   "id": "3bcc05c9-4330-40b7-87e7-fdcbeb4f9921",
   "metadata": {},
   "source": [
    "### Q11. Create a variable named \"is_student\" and assign it a boolean value indicating whether you are currently a student or not."
   ]
  },
  {
   "cell_type": "code",
   "execution_count": 34,
   "id": "eaed70fc-f51b-4067-aedf-c876bae4ce8c",
   "metadata": {},
   "outputs": [],
   "source": [
    "is_student = True"
   ]
  },
  {
   "cell_type": "code",
   "execution_count": null,
   "id": "01ddb6a6-5c9d-4da6-a14a-dc5ff5990095",
   "metadata": {},
   "outputs": [],
   "source": []
  }
 ],
 "metadata": {
  "kernelspec": {
   "display_name": "Python 3 (ipykernel)",
   "language": "python",
   "name": "python3"
  },
  "language_info": {
   "codemirror_mode": {
    "name": "ipython",
    "version": 3
   },
   "file_extension": ".py",
   "mimetype": "text/x-python",
   "name": "python",
   "nbconvert_exporter": "python",
   "pygments_lexer": "ipython3",
   "version": "3.10.8"
  }
 },
 "nbformat": 4,
 "nbformat_minor": 5
}
